{
 "cells": [
  {
   "cell_type": "code",
   "execution_count": 2,
   "metadata": {},
   "outputs": [],
   "source": [
    "import pandas as pd"
   ]
  },
  {
   "cell_type": "code",
   "execution_count": 5,
   "metadata": {},
   "outputs": [],
   "source": [
    "df=pd.read_csv('police_deaths_USA_v6.csv')"
   ]
  },
  {
   "cell_type": "code",
   "execution_count": 6,
   "metadata": {},
   "outputs": [
    {
     "data": {
      "text/html": [
       "<div>\n",
       "<style scoped>\n",
       "    .dataframe tbody tr th:only-of-type {\n",
       "        vertical-align: middle;\n",
       "    }\n",
       "\n",
       "    .dataframe tbody tr th {\n",
       "        vertical-align: top;\n",
       "    }\n",
       "\n",
       "    .dataframe thead th {\n",
       "        text-align: right;\n",
       "    }\n",
       "</style>\n",
       "<table border=\"1\" class=\"dataframe\">\n",
       "  <thead>\n",
       "    <tr style=\"text-align: right;\">\n",
       "      <th></th>\n",
       "      <th>Rank</th>\n",
       "      <th>Name</th>\n",
       "      <th>Age</th>\n",
       "      <th>End_Of_Watch</th>\n",
       "      <th>Day_Of_Week</th>\n",
       "      <th>Cause</th>\n",
       "      <th>Department</th>\n",
       "      <th>State</th>\n",
       "      <th>Tour</th>\n",
       "      <th>Badge</th>\n",
       "      <th>Weapon</th>\n",
       "      <th>Offender</th>\n",
       "      <th>Summary</th>\n",
       "    </tr>\n",
       "  </thead>\n",
       "  <tbody>\n",
       "    <tr>\n",
       "      <th>0</th>\n",
       "      <td>Constable</td>\n",
       "      <td>Darius Quimby</td>\n",
       "      <td>NaN</td>\n",
       "      <td>1791-01-03</td>\n",
       "      <td>Monday</td>\n",
       "      <td>Stabbed</td>\n",
       "      <td>Albany County Constable's Office, New York</td>\n",
       "      <td>New York</td>\n",
       "      <td>NaN</td>\n",
       "      <td>NaN</td>\n",
       "      <td>Edged weapon; Knife</td>\n",
       "      <td>Executed in 1791</td>\n",
       "      <td>Constable Darius Quimby was stabbed to death w...</td>\n",
       "    </tr>\n",
       "    <tr>\n",
       "      <th>1</th>\n",
       "      <td>Sheriff</td>\n",
       "      <td>Cornelius Hogeboom</td>\n",
       "      <td>53.0</td>\n",
       "      <td>1791-10-22</td>\n",
       "      <td>Saturday</td>\n",
       "      <td>Gunfire</td>\n",
       "      <td>Columbia County Sheriff's Office, New York</td>\n",
       "      <td>New York</td>\n",
       "      <td>2 years</td>\n",
       "      <td>NaN</td>\n",
       "      <td>Gun; Unknown type</td>\n",
       "      <td>Acquitted</td>\n",
       "      <td>Sheriff Cornelius Hogeboom was shot and killed...</td>\n",
       "    </tr>\n",
       "    <tr>\n",
       "      <th>2</th>\n",
       "      <td>Deputy Sheriff</td>\n",
       "      <td>Isaac Smith</td>\n",
       "      <td>NaN</td>\n",
       "      <td>1792-05-17</td>\n",
       "      <td>Thursday</td>\n",
       "      <td>Gunfire</td>\n",
       "      <td>Westchester County Sheriff's Department, New York</td>\n",
       "      <td>New York</td>\n",
       "      <td>NaN</td>\n",
       "      <td>NaN</td>\n",
       "      <td>Handgun</td>\n",
       "      <td>Executed in 1793</td>\n",
       "      <td>Deputy Sheriff Isaac Smith was shot and killed...</td>\n",
       "    </tr>\n",
       "    <tr>\n",
       "      <th>3</th>\n",
       "      <td>Marshal</td>\n",
       "      <td>Robert Forsyth</td>\n",
       "      <td>40.0</td>\n",
       "      <td>1794-01-11</td>\n",
       "      <td>Saturday</td>\n",
       "      <td>Gunfire</td>\n",
       "      <td>United States Department of Justice - United S...</td>\n",
       "      <td>United States</td>\n",
       "      <td>4 years, 4 months</td>\n",
       "      <td>4</td>\n",
       "      <td>Handgun; Pistol</td>\n",
       "      <td>Escaped</td>\n",
       "      <td>Marshal Robert Forsyth, believed to be one of ...</td>\n",
       "    </tr>\n",
       "    <tr>\n",
       "      <th>4</th>\n",
       "      <td>Deputy Sheriff</td>\n",
       "      <td>Robert Berwick</td>\n",
       "      <td>NaN</td>\n",
       "      <td>1797-06-29</td>\n",
       "      <td>Thursday</td>\n",
       "      <td>Gunfire</td>\n",
       "      <td>New York County Sheriff's Office, New York</td>\n",
       "      <td>New York</td>\n",
       "      <td>NaN</td>\n",
       "      <td>NaN</td>\n",
       "      <td>Handgun</td>\n",
       "      <td>Executed in 1797</td>\n",
       "      <td>Deputy Sheriff Robert Berwick was shot and kil...</td>\n",
       "    </tr>\n",
       "  </tbody>\n",
       "</table>\n",
       "</div>"
      ],
      "text/plain": [
       "             Rank                Name   Age End_Of_Watch Day_Of_Week    Cause  \\\n",
       "0       Constable       Darius Quimby   NaN   1791-01-03      Monday  Stabbed   \n",
       "1         Sheriff  Cornelius Hogeboom  53.0   1791-10-22    Saturday  Gunfire   \n",
       "2  Deputy Sheriff         Isaac Smith   NaN   1792-05-17    Thursday  Gunfire   \n",
       "3         Marshal      Robert Forsyth  40.0   1794-01-11    Saturday  Gunfire   \n",
       "4  Deputy Sheriff      Robert Berwick   NaN   1797-06-29    Thursday  Gunfire   \n",
       "\n",
       "                                          Department          State  \\\n",
       "0         Albany County Constable's Office, New York       New York   \n",
       "1         Columbia County Sheriff's Office, New York       New York   \n",
       "2  Westchester County Sheriff's Department, New York       New York   \n",
       "3  United States Department of Justice - United S...  United States   \n",
       "4         New York County Sheriff's Office, New York       New York   \n",
       "\n",
       "                Tour Badge               Weapon          Offender  \\\n",
       "0                NaN   NaN  Edged weapon; Knife  Executed in 1791   \n",
       "1            2 years   NaN    Gun; Unknown type         Acquitted   \n",
       "2                NaN   NaN              Handgun  Executed in 1793   \n",
       "3  4 years, 4 months     4      Handgun; Pistol           Escaped   \n",
       "4                NaN   NaN              Handgun  Executed in 1797   \n",
       "\n",
       "                                             Summary  \n",
       "0  Constable Darius Quimby was stabbed to death w...  \n",
       "1  Sheriff Cornelius Hogeboom was shot and killed...  \n",
       "2  Deputy Sheriff Isaac Smith was shot and killed...  \n",
       "3  Marshal Robert Forsyth, believed to be one of ...  \n",
       "4  Deputy Sheriff Robert Berwick was shot and kil...  "
      ]
     },
     "execution_count": 6,
     "metadata": {},
     "output_type": "execute_result"
    }
   ],
   "source": [
    "df.head()"
   ]
  },
  {
   "cell_type": "code",
   "execution_count": 9,
   "metadata": {},
   "outputs": [
    {
     "data": {
      "text/plain": [
       "array([  nan,   53.,   40.,   45.,   52.,   74.,   20.,   48.,   46.,\n",
       "         33.,   27.,   60.,   24.,   56.,   61.,   43.,   83.,   66.,\n",
       "         25.,   31.,   34.,   70.,   21.,   44.,   37.,   36.,   38.,\n",
       "         30.,   22.,   47.,   41.,   35.,   42.,   18.,   17.,   32.,\n",
       "         29.,   50.,   28.,   49.,   39.,   26.,   51.,   23.,   55.,\n",
       "         54.,   19.,   63.,   67.,   65.,   71.,   73.,   59.,   62.,\n",
       "         57.,   58.,   69.,   68.,   64.,   75.,   81.,   77.,   89.,\n",
       "         78.,   72.,   76.,   79.,   84.,   80.,   96., 1661.,   92.,\n",
       "         82.])"
      ]
     },
     "execution_count": 9,
     "metadata": {},
     "output_type": "execute_result"
    }
   ],
   "source": [
    "df['Age'].unique()"
   ]
  },
  {
   "cell_type": "code",
   "execution_count": 12,
   "metadata": {},
   "outputs": [
    {
     "data": {
      "text/plain": [
       "2677"
      ]
     },
     "execution_count": 12,
     "metadata": {},
     "output_type": "execute_result"
    }
   ],
   "source": [
    "df['Age'].isna().sum()"
   ]
  },
  {
   "cell_type": "code",
   "execution_count": 21,
   "metadata": {},
   "outputs": [
    {
     "data": {
      "text/plain": [
       "count    22946.000000\n",
       "mean        40.289419\n",
       "std         15.799729\n",
       "min         17.000000\n",
       "25%         31.000000\n",
       "50%         39.000000\n",
       "75%         48.000000\n",
       "max       1661.000000\n",
       "Name: Age, dtype: float64"
      ]
     },
     "execution_count": 21,
     "metadata": {},
     "output_type": "execute_result"
    }
   ],
   "source": [
    "df['Age'].describe()"
   ]
  },
  {
   "cell_type": "code",
   "execution_count": 14,
   "metadata": {},
   "outputs": [],
   "source": [
    "df['End_Of_Watch']=pd.to_datetime(df['End_Of_Watch'], errors='coerce')"
   ]
  },
  {
   "cell_type": "code",
   "execution_count": 15,
   "metadata": {},
   "outputs": [
    {
     "name": "stdout",
     "output_type": "stream",
     "text": [
      "<class 'pandas.core.frame.DataFrame'>\n",
      "RangeIndex: 25623 entries, 0 to 25622\n",
      "Data columns (total 13 columns):\n",
      " #   Column        Non-Null Count  Dtype         \n",
      "---  ------        --------------  -----         \n",
      " 0   Rank          25623 non-null  object        \n",
      " 1   Name          25623 non-null  object        \n",
      " 2   Age           22946 non-null  float64       \n",
      " 3   End_Of_Watch  25623 non-null  datetime64[ns]\n",
      " 4   Day_Of_Week   25623 non-null  object        \n",
      " 5   Cause         25622 non-null  object        \n",
      " 6   Department    25623 non-null  object        \n",
      " 7   State         25623 non-null  object        \n",
      " 8   Tour          17417 non-null  object        \n",
      " 9   Badge         7477 non-null   object        \n",
      " 10  Weapon        16263 non-null  object        \n",
      " 11  Offender      13803 non-null  object        \n",
      " 12  Summary       25623 non-null  object        \n",
      "dtypes: datetime64[ns](1), float64(1), object(11)\n",
      "memory usage: 2.5+ MB\n"
     ]
    }
   ],
   "source": [
    "df.info()"
   ]
  },
  {
   "cell_type": "code",
   "execution_count": 16,
   "metadata": {},
   "outputs": [
    {
     "data": {
      "text/plain": [
       "(25623, 13)"
      ]
     },
     "execution_count": 16,
     "metadata": {},
     "output_type": "execute_result"
    }
   ],
   "source": [
    "df.shape"
   ]
  },
  {
   "cell_type": "code",
   "execution_count": 18,
   "metadata": {},
   "outputs": [
    {
     "data": {
      "text/plain": [
       "<Axes: title={'center': 'Age'}, xlabel='State'>"
      ]
     },
     "execution_count": 18,
     "metadata": {},
     "output_type": "execute_result"
    },
    {
     "data": {
      "image/png": "[encoded data removed]",
      "text/plain": [
       "<Figure size 640x480 with 1 Axes>"
      ]
     },
     "metadata": {},
     "output_type": "display_data"
    }
   ],
   "source": [
    "df.boxplot(column=\"Age\", by=\"State\", grid=False)"
   ]
  },
  {
   "cell_type": "code",
   "execution_count": 19,
   "metadata": {},
   "outputs": [
    {
     "data": {
      "text/html": [
       "<div>\n",
       "<style scoped>\n",
       "    .dataframe tbody tr th:only-of-type {\n",
       "        vertical-align: middle;\n",
       "    }\n",
       "\n",
       "    .dataframe tbody tr th {\n",
       "        vertical-align: top;\n",
       "    }\n",
       "\n",
       "    .dataframe thead th {\n",
       "        text-align: right;\n",
       "    }\n",
       "</style>\n",
       "<table border=\"1\" class=\"dataframe\">\n",
       "  <thead>\n",
       "    <tr style=\"text-align: right;\">\n",
       "      <th></th>\n",
       "      <th>Rank</th>\n",
       "      <th>Name</th>\n",
       "      <th>Age</th>\n",
       "      <th>End_Of_Watch</th>\n",
       "      <th>Day_Of_Week</th>\n",
       "      <th>Cause</th>\n",
       "      <th>Department</th>\n",
       "      <th>State</th>\n",
       "      <th>Tour</th>\n",
       "      <th>Badge</th>\n",
       "      <th>Weapon</th>\n",
       "      <th>Offender</th>\n",
       "      <th>Summary</th>\n",
       "    </tr>\n",
       "  </thead>\n",
       "  <tbody>\n",
       "    <tr>\n",
       "      <th>17747</th>\n",
       "      <td>Police Officer</td>\n",
       "      <td>Edward Russell Young</td>\n",
       "      <td>1661.0</td>\n",
       "      <td>1981-09-23</td>\n",
       "      <td>Wednesday</td>\n",
       "      <td>Automobile crash</td>\n",
       "      <td>Metro-Dade Police Department, Florida</td>\n",
       "      <td>Florida</td>\n",
       "      <td>29 years</td>\n",
       "      <td>NaN</td>\n",
       "      <td>NaN</td>\n",
       "      <td>NaN</td>\n",
       "      <td>Police Officer Edward Young was killed in an a...</td>\n",
       "    </tr>\n",
       "  </tbody>\n",
       "</table>\n",
       "</div>"
      ],
      "text/plain": [
       "                 Rank                  Name     Age End_Of_Watch Day_Of_Week  \\\n",
       "17747  Police Officer  Edward Russell Young  1661.0   1981-09-23   Wednesday   \n",
       "\n",
       "                  Cause                             Department    State  \\\n",
       "17747  Automobile crash  Metro-Dade Police Department, Florida  Florida   \n",
       "\n",
       "           Tour Badge Weapon Offender  \\\n",
       "17747  29 years   NaN    NaN      NaN   \n",
       "\n",
       "                                                 Summary  \n",
       "17747  Police Officer Edward Young was killed in an a...  "
      ]
     },
     "execution_count": 19,
     "metadata": {},
     "output_type": "execute_result"
    }
   ],
   "source": [
    "df[df['Age']>1000]"
   ]
  },
  {
   "cell_type": "code",
   "execution_count": 24,
   "metadata": {},
   "outputs": [
    {
     "data": {
      "text/plain": [
       "Index(['Rank', 'Name', 'Age', 'End_Of_Watch', 'Day_Of_Week', 'Cause',\n",
       "       'Department', 'State', 'Tour', 'Badge', 'Weapon', 'Offender',\n",
       "       'Summary'],\n",
       "      dtype='object')"
      ]
     },
     "execution_count": 24,
     "metadata": {},
     "output_type": "execute_result"
    }
   ],
   "source": [
    "df.columns"
   ]
  },
  {
   "cell_type": "code",
   "execution_count": null,
   "metadata": {},
   "outputs": [],
   "source": []
  }
 ],
 "metadata": {
  "kernelspec": {
   "display_name": "base",
   "language": "python",
   "name": "python3"
  },
  "language_info": {
   "codemirror_mode": {
    "name": "ipython",
    "version": 3
   },
   "file_extension": ".py",
   "mimetype": "text/x-python",
   "name": "python",
   "nbconvert_exporter": "python",
   "pygments_lexer": "ipython3",
   "version": "3.11.7"
  }
 },
 "nbformat": 4,
 "nbformat_minor": 2
}
